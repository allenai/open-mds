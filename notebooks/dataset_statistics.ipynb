{
 "cells": [
  {
   "cell_type": "markdown",
   "metadata": {},
   "source": [
    "# Dataset Statistics\n",
    "\n",
    "Computes some simple dataset statistics that are presented in the paper.\n",
    "\n",
    "__Note__: if you are running this notebook in colab, uncomment and run the following cell to install the project and its dependencies"
   ]
  },
  {
   "cell_type": "code",
   "execution_count": null,
   "metadata": {},
   "outputs": [],
   "source": [
    "# %pip install \"git+https://github.com/allenai/open-mds.git#egg=open_mds[retrieval]\""
   ]
  },
  {
   "cell_type": "code",
   "execution_count": null,
   "metadata": {},
   "outputs": [],
   "source": [
    "from open_mds import indexing\n",
    "from open_mds.common import util"
   ]
  },
  {
   "cell_type": "code",
   "execution_count": null,
   "metadata": {},
   "outputs": [],
   "source": [
    "multinews = indexing.CanonicalMDSDataset(\"multi_news\", doc_sep_token=util.DOC_SEP_TOKENS[\"multi_news\"])\n",
    "multinews.get_document_stats(avg_tokens_per_doc=True, avg_tokens_per_summary=True)"
   ]
  },
  {
   "cell_type": "code",
   "execution_count": null,
   "metadata": {},
   "outputs": [],
   "source": [
    "wcep = indexing.CanonicalMDSDataset(\"ccdv/WCEP-10\", doc_sep_token=util.DOC_SEP_TOKENS[\"ccdv/WCEP-10\"])\n",
    "wcep.get_document_stats(avg_tokens_per_doc=True, avg_tokens_per_summary=True)"
   ]
  },
  {
   "cell_type": "code",
   "execution_count": null,
   "metadata": {},
   "outputs": [],
   "source": [
    "multixscience = indexing.MultiXScienceDataset()\n",
    "multixscience.get_document_stats(avg_tokens_per_doc=True, avg_tokens_per_summary=True)"
   ]
  },
  {
   "cell_type": "markdown",
   "metadata": {},
   "source": [
    "Following [MS2: Multi-Document Summarization of Medical Studies](https://aclanthology.org/2021.emnlp-main.594/), take the first 25 articles as input for the MS2 and Cochrane datasets in our experiments. Below, we report statistics for both the original and truncated inputs."
   ]
  },
  {
   "cell_type": "code",
   "execution_count": null,
   "metadata": {},
   "outputs": [],
   "source": [
    "ms2 = indexing.MSLR2022Dataset(name=\"ms2\")\n",
    "ms2.get_document_stats(avg_tokens_per_doc=True)\n",
    "ms2.get_document_stats(max_included_studies=25, avg_tokens_per_doc=True, avg_tokens_per_summary=True)"
   ]
  },
  {
   "cell_type": "code",
   "execution_count": null,
   "metadata": {},
   "outputs": [],
   "source": [
    "cochrane = indexing.MSLR2022Dataset(name=\"cochrane\")\n",
    "cochrane.get_document_stats(avg_tokens_per_doc=True)\n",
    "cochrane.get_document_stats(max_included_studies=25, avg_tokens_per_doc=True, avg_tokens_per_summary=True)"
   ]
  }
 ],
 "metadata": {
  "kernelspec": {
   "display_name": "Python 3.9.13 ('open-mds-C-nHY9Y1-py3.9')",
   "language": "python",
   "name": "python3"
  },
  "language_info": {
   "codemirror_mode": {
    "name": "ipython",
    "version": 3
   },
   "file_extension": ".py",
   "mimetype": "text/x-python",
   "name": "python",
   "nbconvert_exporter": "python",
   "pygments_lexer": "ipython3",
   "version": "3.9.13"
  },
  "orig_nbformat": 4,
  "vscode": {
   "interpreter": {
    "hash": "bf84cdef7bef6c8a571de4ac52ff8ec016cbb22b7bda79a5961c2e1a10655180"
   }
  }
 },
 "nbformat": 4,
 "nbformat_minor": 2
}
